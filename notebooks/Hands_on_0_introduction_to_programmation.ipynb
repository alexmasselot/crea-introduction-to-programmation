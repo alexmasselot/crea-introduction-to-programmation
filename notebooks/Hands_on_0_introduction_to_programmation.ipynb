{
 "cells": [
  {
   "cell_type": "markdown",
   "metadata": {},
   "source": [
    "These exercices aims to make you use Python for simple operations. You should be able to complete them using only simple operators and built-in functions:\n",
    "* keywords: if, while...\n",
    "* Operators : \\+ = ...\n",
    "* Functions: print, len...\n",
    "\n",
    "***As any IT engineer, we expect you to use Internet to help you during theses exercices, with requests like \"Python length of list\"***"
   ]
  },
  {
   "cell_type": "markdown",
   "metadata": {},
   "source": [
    "# Condition"
   ]
  },
  {
   "cell_type": "markdown",
   "metadata": {},
   "source": [
    "Given:"
   ]
  },
  {
   "cell_type": "code",
   "execution_count": null,
   "metadata": {
    "collapsed": true
   },
   "outputs": [],
   "source": [
    "one_name = \"Bob\""
   ]
  },
  {
   "cell_type": "markdown",
   "metadata": {},
   "source": [
    "**Exercice**\n",
    "\n",
    "Do the following in next cell:\n",
    "* if one_name is equal to \"Bob\": print \"Hello Bob!\"\n",
    "* else: print \"I don't know you!\"\n",
    "\n",
    "Hints:\n",
    "* To use print in Python: http://nbviewer.jupyter.org/github/rajathkumarmp/Python-Lectures/blob/master/02.ipynb\n",
    "* To create a condition: http://nbviewer.jupyter.org/github/rajathkumarmp/Python-Lectures/blob/master/05.ipynb"
   ]
  },
  {
   "cell_type": "code",
   "execution_count": null,
   "metadata": {
    "collapsed": true
   },
   "outputs": [],
   "source": [
    "# Your code here"
   ]
  },
  {
   "cell_type": "markdown",
   "metadata": {},
   "source": [
    "# Simple loop"
   ]
  },
  {
   "cell_type": "markdown",
   "metadata": {},
   "source": [
    "**Exercice**\n",
    "\n",
    "Print the message \"I am repeating my self\" 10 times using a loop\n",
    "\n",
    "Hint: http://nbviewer.jupyter.org/github/rajathkumarmp/Python-Lectures/blob/master/05.ipynb#Loops"
   ]
  },
  {
   "cell_type": "code",
   "execution_count": 3,
   "metadata": {},
   "outputs": [
    {
     "name": "stdout",
     "output_type": "stream",
     "text": [
      "I am repeating my self\n"
     ]
    }
   ],
   "source": [
    "# Change the code below to display it 10 times instead of one\n",
    "print(\"I am repeating my self\") "
   ]
  },
  {
   "cell_type": "markdown",
   "metadata": {},
   "source": [
    "***To go further (only if you already knew Python):*** Can you do the same in a more concise way? (It is possible to do it in 1 line)"
   ]
  },
  {
   "cell_type": "code",
   "execution_count": 4,
   "metadata": {},
   "outputs": [],
   "source": [
    "# Your code here"
   ]
  },
  {
   "cell_type": "markdown",
   "metadata": {},
   "source": [
    "# String concatenation"
   ]
  },
  {
   "cell_type": "markdown",
   "metadata": {},
   "source": [
    "Given:"
   ]
  },
  {
   "cell_type": "code",
   "execution_count": 1,
   "metadata": {},
   "outputs": [
    {
     "name": "stdout",
     "output_type": "stream",
     "text": [
      "string1: The weather\n",
      "string2: is cloudy\n"
     ]
    }
   ],
   "source": [
    "string1 = \"The weather\"\n",
    "string2 = \"is cloudy\"\n",
    "print(\"string1:\", string1)\n",
    "print(\"string2:\", string2)"
   ]
  },
  {
   "cell_type": "markdown",
   "metadata": {},
   "source": [
    "**Exercice**\n",
    "\n",
    "Concatenate the two strings above, then print the result.\n",
    "\n",
    "Hint: http://www.pythonforbeginners.com/concatenation/string-concatenation-and-formatting-in-python"
   ]
  },
  {
   "cell_type": "code",
   "execution_count": 6,
   "metadata": {
    "collapsed": true
   },
   "outputs": [],
   "source": [
    "# Your code here"
   ]
  },
  {
   "cell_type": "markdown",
   "metadata": {},
   "source": [
    "# Get the length of a list"
   ]
  },
  {
   "cell_type": "markdown",
   "metadata": {},
   "source": [
    "Given:"
   ]
  },
  {
   "cell_type": "code",
   "execution_count": 3,
   "metadata": {
    "collapsed": true
   },
   "outputs": [],
   "source": [
    "list_1 = [\"Bob\", \"Alice\", \"Laeticia\", \"Sergio\"]"
   ]
  },
  {
   "cell_type": "markdown",
   "metadata": {},
   "source": [
    "**Exercice**\n",
    "\n",
    "Get and print the length of this list.\n",
    "\n",
    "Hint: http://nbviewer.jupyter.org/github/rajathkumarmp/Python-Lectures/blob/master/03.ipynb#Built-in-List-Functions"
   ]
  },
  {
   "cell_type": "code",
   "execution_count": 4,
   "metadata": {
    "collapsed": true
   },
   "outputs": [],
   "source": [
    "# Your code here"
   ]
  },
  {
   "cell_type": "markdown",
   "metadata": {},
   "source": [
    "# Number of specific elements in a list"
   ]
  },
  {
   "cell_type": "markdown",
   "metadata": {},
   "source": [
    "Given:"
   ]
  },
  {
   "cell_type": "code",
   "execution_count": 7,
   "metadata": {
    "collapsed": true
   },
   "outputs": [],
   "source": [
    "my_list = [\"Dog\", \"Cat\", \"Duck\", \"Bird\", \"Duck\"]"
   ]
  },
  {
   "cell_type": "markdown",
   "metadata": {},
   "source": [
    "**Exercice**\n",
    "\n",
    "Count and display the number of ducks in in list!"
   ]
  },
  {
   "cell_type": "code",
   "execution_count": null,
   "metadata": {
    "collapsed": true
   },
   "outputs": [],
   "source": [
    "# You code here"
   ]
  },
  {
   "cell_type": "markdown",
   "metadata": {},
   "source": [
    "**To go further (only if you already knew Python):** Do it more concisely! It is possible to do it in one line."
   ]
  },
  {
   "cell_type": "code",
   "execution_count": 29,
   "metadata": {
    "collapsed": true
   },
   "outputs": [],
   "source": [
    "# Your code here"
   ]
  },
  {
   "cell_type": "markdown",
   "metadata": {},
   "source": [
    "# Your first function!"
   ]
  },
  {
   "cell_type": "markdown",
   "metadata": {},
   "source": [
    "You might want to use the code above more than once in your project. You can do so by copy-pasting the code everywhere you need it, but soon enough, you code will become really dirty.\n",
    "You should create a function instead, like this:"
   ]
  },
  {
   "cell_type": "code",
   "execution_count": 8,
   "metadata": {},
   "outputs": [
    {
     "name": "stdout",
     "output_type": "stream",
     "text": [
      "a equals to: 3\n",
      "a equals to: Bob\n"
     ]
    }
   ],
   "source": [
    "def one_function(a):\n",
    "    # here, some complicated code you want to use in many places\n",
    "    print(\"a equals to:\", a)\n",
    "one_function(3)\n",
    "one_function(\"Bob\")"
   ]
  },
  {
   "cell_type": "markdown",
   "metadata": {},
   "source": [
    "**Eercice**\n",
    "Create your own function, with your implementation from above, and call it on these lists."
   ]
  },
  {
   "cell_type": "code",
   "execution_count": 11,
   "metadata": {
    "collapsed": true
   },
   "outputs": [],
   "source": [
    "list_with_animals_1 = [\"Duck\", \"Dog\", \"Dog\", \"Cat\", \"Human\"]\n",
    "list_with_animals_2 = [\"Bird\", \"Duck\", \"Bear\", \"Cat\", \"Duck\", \"Duck\"]"
   ]
  },
  {
   "cell_type": "code",
   "execution_count": 13,
   "metadata": {},
   "outputs": [
    {
     "name": "stdout",
     "output_type": "stream",
     "text": [
      "0\n",
      "0\n"
     ]
    }
   ],
   "source": [
    "# Your code here\n",
    "def count_ducks(list_with_animals):\n",
    "    # TODO: compute the number of ducks\n",
    "    return 0\n",
    "# Should display 1\n",
    "print(count_ducks(list_with_animals_1))\n",
    "# Should display 3\n",
    "print(count_ducks(list_with_animals_2))"
   ]
  },
  {
   "cell_type": "markdown",
   "metadata": {},
   "source": [
    "# To go further... (only if you already knew Python)"
   ]
  },
  {
   "cell_type": "markdown",
   "metadata": {},
   "source": [
    "## Unit tests"
   ]
  },
  {
   "cell_type": "markdown",
   "metadata": {},
   "source": [
    "* Units tests are separated functions that you run to check the behavior of your code.\n",
    "* In Python, you can add unit tests at the beginning of your function. These tests, given as a string, are also providing documentation about your function. below is an example. ***Can you make it work?***"
   ]
  },
  {
   "cell_type": "code",
   "execution_count": 14,
   "metadata": {},
   "outputs": [
    {
     "name": "stdout",
     "output_type": "stream",
     "text": [
      "Finding tests in NoName\n",
      "Trying:\n",
      "    count_ducks_with_doctest([])\n",
      "Expecting:\n",
      "    0\n",
      "ok\n",
      "Trying:\n",
      "    count_ducks_with_doctest([\"Duck\", \"Dog\", \"Dog\", \"Cat\", \"Human\"])\n",
      "Expecting:\n",
      "    1\n",
      "**********************************************************************\n",
      "File \"__main__\", line 6, in NoName\n",
      "Failed example:\n",
      "    count_ducks_with_doctest([\"Duck\", \"Dog\", \"Dog\", \"Cat\", \"Human\"])\n",
      "Expected:\n",
      "    1\n",
      "Got:\n",
      "    0\n",
      "Trying:\n",
      "    count_ducks_with_doctest([\"Bird\", \"Duck\", \"Bear\", \"Cat\", \"Duck\", \"Duck\"])\n",
      "Expecting:\n",
      "    3\n",
      "**********************************************************************\n",
      "File \"__main__\", line 8, in NoName\n",
      "Failed example:\n",
      "    count_ducks_with_doctest([\"Bird\", \"Duck\", \"Bear\", \"Cat\", \"Duck\", \"Duck\"])\n",
      "Expected:\n",
      "    3\n",
      "Got:\n",
      "    0\n"
     ]
    }
   ],
   "source": [
    "import doctest\n",
    "def count_ducks_with_doctest(list_in):\n",
    "    \"\"\"\n",
    "    >>> count_ducks_with_doctest([])\n",
    "    0\n",
    "    >>> count_ducks_with_doctest([\"Duck\", \"Dog\", \"Dog\", \"Cat\", \"Human\"])\n",
    "    1\n",
    "    >>> count_ducks_with_doctest([\"Bird\", \"Duck\", \"Bear\", \"Cat\", \"Duck\", \"Duck\"])\n",
    "    3\n",
    "    \"\"\"\n",
    "    return 0\n",
    "doctest.run_docstring_examples(count_ducks_with_doctest, globals(), verbose = True)"
   ]
  },
  {
   "cell_type": "code",
   "execution_count": null,
   "metadata": {
    "collapsed": true
   },
   "outputs": [],
   "source": []
  }
 ],
 "metadata": {
  "kernelspec": {
   "display_name": "Python 3",
   "language": "python",
   "name": "python3"
  },
  "language_info": {
   "codemirror_mode": {
    "name": "ipython",
    "version": 3
   },
   "file_extension": ".py",
   "mimetype": "text/x-python",
   "name": "python",
   "nbconvert_exporter": "python",
   "pygments_lexer": "ipython3",
   "version": "3.6.3"
  }
 },
 "nbformat": 4,
 "nbformat_minor": 2
}
