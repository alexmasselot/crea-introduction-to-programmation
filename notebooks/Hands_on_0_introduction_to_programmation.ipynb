{
 "cells": [
  {
   "cell_type": "markdown",
   "metadata": {},
   "source": [
    "These exercices aims to make you use Python for simple operations. You should be able to complete them using only simple operators and built-in functions:\n",
    "* keywords: if, while...\n",
    "* Operators : \\+ = ...\n",
    "* Functions: print, len...\n",
    "\n",
    "***As any IT engineer, we expect you to use Internet to help you during theses exercices, with requests like \"Python length of list\"***"
   ]
  },
  {
   "cell_type": "markdown",
   "metadata": {},
   "source": [
    "# Condition"
   ]
  },
  {
   "cell_type": "markdown",
   "metadata": {},
   "source": [
    "Given:"
   ]
  },
  {
   "cell_type": "code",
   "execution_count": null,
   "metadata": {
    "collapsed": true
   },
   "outputs": [],
   "source": [
    "one_name = \"Bob\""
   ]
  },
  {
   "cell_type": "markdown",
   "metadata": {},
   "source": [
    "Can you print \"Hello Bob!\" if one_name is equal to \"Bob\", and \"Hello, How can I help you?\" otherwise?"
   ]
  },
  {
   "cell_type": "code",
   "execution_count": null,
   "metadata": {
    "collapsed": true
   },
   "outputs": [],
   "source": [
    "# Your code here"
   ]
  },
  {
   "cell_type": "markdown",
   "metadata": {},
   "source": [
    "# Simple loop"
   ]
  },
  {
   "cell_type": "markdown",
   "metadata": {},
   "source": [
    "Can you print the message \"I am repeating my self\" 10 times programmatically?"
   ]
  },
  {
   "cell_type": "code",
   "execution_count": 7,
   "metadata": {
    "collapsed": true
   },
   "outputs": [],
   "source": [
    "# Your code here"
   ]
  },
  {
   "cell_type": "markdown",
   "metadata": {},
   "source": [
    "***To go furhter:*** Can you do the same in a more concise way? (It is possible to do it in 1 line)"
   ]
  },
  {
   "cell_type": "code",
   "execution_count": 9,
   "metadata": {
    "collapsed": true
   },
   "outputs": [],
   "source": [
    "# Your code here"
   ]
  },
  {
   "cell_type": "markdown",
   "metadata": {},
   "source": [
    "# String concatenation"
   ]
  },
  {
   "cell_type": "markdown",
   "metadata": {},
   "source": [
    "Given:"
   ]
  },
  {
   "cell_type": "code",
   "execution_count": 1,
   "metadata": {},
   "outputs": [
    {
     "name": "stdout",
     "output_type": "stream",
     "text": [
      "string1: The weather\n",
      "string2: is cloudy\n"
     ]
    }
   ],
   "source": [
    "string1 = \"The weather\"\n",
    "string2 = \"is cloudy\"\n",
    "print(\"string1:\", string1)\n",
    "print(\"string2:\", string2)"
   ]
  },
  {
   "cell_type": "markdown",
   "metadata": {},
   "source": [
    "Can you add these two strings and print the new one?"
   ]
  },
  {
   "cell_type": "code",
   "execution_count": 2,
   "metadata": {
    "collapsed": true
   },
   "outputs": [],
   "source": [
    "# Your code here"
   ]
  },
  {
   "cell_type": "markdown",
   "metadata": {},
   "source": [
    "# Get the length of a list"
   ]
  },
  {
   "cell_type": "markdown",
   "metadata": {},
   "source": [
    "Given:"
   ]
  },
  {
   "cell_type": "code",
   "execution_count": 3,
   "metadata": {
    "collapsed": true
   },
   "outputs": [],
   "source": [
    "list_1 = [\"Bob\", \"Alice\", \"Laeticia\", \"Sergio\"]"
   ]
  },
  {
   "cell_type": "markdown",
   "metadata": {},
   "source": [
    "Can you get the length of this list programmatically?"
   ]
  },
  {
   "cell_type": "code",
   "execution_count": 4,
   "metadata": {
    "collapsed": true
   },
   "outputs": [],
   "source": [
    "# Your code here"
   ]
  },
  {
   "cell_type": "markdown",
   "metadata": {},
   "source": [
    "# Number of specific elements in a list"
   ]
  },
  {
   "cell_type": "markdown",
   "metadata": {},
   "source": [
    "Given:"
   ]
  },
  {
   "cell_type": "code",
   "execution_count": 5,
   "metadata": {
    "collapsed": true
   },
   "outputs": [],
   "source": [
    "my_list = [\"Male\", \"Female\", \"Male\", \"Male\", \"Female\"]"
   ]
  },
  {
   "cell_type": "markdown",
   "metadata": {},
   "source": [
    "Can you count the number of females in this list?"
   ]
  },
  {
   "cell_type": "code",
   "execution_count": null,
   "metadata": {
    "collapsed": true
   },
   "outputs": [],
   "source": [
    "# You code here"
   ]
  },
  {
   "cell_type": "markdown",
   "metadata": {},
   "source": [
    "**To go further:** Can you think of a more concise way to do the same? (It is possible to do it in 1 line)"
   ]
  },
  {
   "cell_type": "code",
   "execution_count": 29,
   "metadata": {
    "collapsed": true
   },
   "outputs": [],
   "source": [
    "# Your code here"
   ]
  },
  {
   "cell_type": "markdown",
   "metadata": {},
   "source": [
    "# Your first function!"
   ]
  },
  {
   "cell_type": "markdown",
   "metadata": {},
   "source": [
    "You might want to use the code above more than once in your project. You can do so by copy-pasting the code everywhere you need it, but soon enough, you code will become really dirty.\n",
    "You should create a function instead, like this:"
   ]
  },
  {
   "cell_type": "code",
   "execution_count": 31,
   "metadata": {},
   "outputs": [
    {
     "name": "stdout",
     "output_type": "stream",
     "text": [
      "a equals to: 3\n",
      "a equals to: Bob\n"
     ]
    }
   ],
   "source": [
    "def one_function(a):\n",
    "    # here, there might be a complicated code:\n",
    "    # with no more than a dozen of lines: above that, you might want to split your function\n",
    "    print(\"a equals to:\", a)\n",
    "one_function(3)\n",
    "one_function(\"Bob\")"
   ]
  },
  {
   "cell_type": "markdown",
   "metadata": {},
   "source": [
    "Can you create your own function, with your implementation from above, and call it on these lists?"
   ]
  },
  {
   "cell_type": "code",
   "execution_count": null,
   "metadata": {
    "collapsed": true
   },
   "outputs": [],
   "source": [
    "list_with_genders_1 = [\"Male\", \"Female\", \"Male\", \"Male\", \"Female\"]\n",
    "list_with_genders_2 = [\"Male\", \"Female\", \"Male\", \"Male\", \"Female\", \"Male\"]"
   ]
  },
  {
   "cell_type": "markdown",
   "metadata": {},
   "source": [
    "Can you create your own function, with your implementation from above, and call it on these lists?"
   ]
  },
  {
   "cell_type": "code",
   "execution_count": 33,
   "metadata": {
    "collapsed": true
   },
   "outputs": [],
   "source": [
    "# Your code here"
   ]
  },
  {
   "cell_type": "markdown",
   "metadata": {},
   "source": [
    "# To go further..."
   ]
  },
  {
   "cell_type": "markdown",
   "metadata": {},
   "source": [
    "## Unit tests"
   ]
  },
  {
   "cell_type": "markdown",
   "metadata": {},
   "source": [
    "Units tests are separated functions that you run to check the behavior of your code. In Python, you can create some unit tests at the beginning of your function. These tests, given as a string, are also providing documentation about your function. below is an example. ***Can you make it work?***"
   ]
  },
  {
   "cell_type": "code",
   "execution_count": 27,
   "metadata": {},
   "outputs": [
    {
     "name": "stdout",
     "output_type": "stream",
     "text": [
      "Finding tests in NoName\n",
      "Trying:\n",
      "    number_of_females_in_list([])\n",
      "Expecting:\n",
      "    0\n",
      "ok\n",
      "Trying:\n",
      "    number_of_females_in_list([\"Male\", \"Female\", \"Male\", \"Male\", \"Female\"])\n",
      "Expecting:\n",
      "    2\n",
      "**********************************************************************\n",
      "File \"__main__\", line 6, in NoName\n",
      "Failed example:\n",
      "    number_of_females_in_list([\"Male\", \"Female\", \"Male\", \"Male\", \"Female\"])\n",
      "Expected:\n",
      "    2\n",
      "Got:\n",
      "    0\n",
      "Trying:\n",
      "    number_of_females_in_list([\"Male\", \"female\", \"Male\", \"Male\", \"Female\"])\n",
      "Expecting:\n",
      "    2\n",
      "**********************************************************************\n",
      "File \"__main__\", line 8, in NoName\n",
      "Failed example:\n",
      "    number_of_females_in_list([\"Male\", \"female\", \"Male\", \"Male\", \"Female\"])\n",
      "Expected:\n",
      "    2\n",
      "Got:\n",
      "    0\n"
     ]
    }
   ],
   "source": [
    "import doctest\n",
    "def number_of_females_in_list(list_in):\n",
    "    \"\"\"\n",
    "    >>> number_of_females_in_list([])\n",
    "    0\n",
    "    >>> number_of_females_in_list([\"Male\", \"Female\", \"Male\", \"Male\", \"Female\"])\n",
    "    2\n",
    "    >>> number_of_females_in_list([\"Male\", \"female\", \"Male\", \"Male\", \"Female\"])\n",
    "    2\n",
    "    \"\"\"\n",
    "    return 0\n",
    "doctest.run_docstring_examples(number_of_females_in_list, globals(), verbose = True)"
   ]
  }
 ],
 "metadata": {
  "kernelspec": {
   "display_name": "Python 3",
   "language": "python",
   "name": "python3"
  },
  "language_info": {
   "codemirror_mode": {
    "name": "ipython",
    "version": 3
   },
   "file_extension": ".py",
   "mimetype": "text/x-python",
   "name": "python",
   "nbconvert_exporter": "python",
   "pygments_lexer": "ipython3",
   "version": "3.6.3"
  }
 },
 "nbformat": 4,
 "nbformat_minor": 2
}
