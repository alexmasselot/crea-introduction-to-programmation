{
 "cells": [
  {
   "cell_type": "code",
   "execution_count": null,
   "metadata": {
    "scrolled": true
   },
   "outputs": [],
   "source": [
    "import nltk\n",
    "nltk.download('all') # vader_lexicon"
   ]
  },
  {
   "cell_type": "code",
   "execution_count": null,
   "metadata": {},
   "outputs": [],
   "source": [
    "from nltk.sentiment.vader import SentimentIntensityAnalyzer\n",
    "from nltk.sentiment import SentimentAnalyzer\n",
    "import matplotlib.pyplot as plt\n",
    "%matplotlib inline"
   ]
  },
  {
   "cell_type": "code",
   "execution_count": null,
   "metadata": {
    "collapsed": true
   },
   "outputs": [],
   "source": [
    "import operator\n",
    "def get_sentiment_for_word(word):\n",
    "    \"\"\"\n",
    "    For a given work, the result is \"neg\", \"neu\" or \"pos\"\n",
    "    \"\"\"\n",
    "    sid = SentimentIntensityAnalyzer()\n",
    "    score = sid.polarity_scores(word)\n",
    "    return max(score.items(), key=operator.itemgetter(1))[0]\n",
    "def analyze_sentence(sentence):\n",
    "    \"\"\"\n",
    "    Display negative and positive words in a given sentence.\n",
    "    \"\"\"\n",
    "    words = sentence.split(' ')\n",
    "    words_with_sentiment = [(w, get_sentiment_for_word(w)) for w in words]\n",
    "    print(sentence)\n",
    "    print(\"negative words:\", [w[0] for w in words_with_sentiment if w[1] == 'neg'])\n",
    "    print(\"positive words:\", [w[0] for w in words_with_sentiment if w[1] == 'pos'])\n",
    "    print()"
   ]
  },
  {
   "cell_type": "code",
   "execution_count": null,
   "metadata": {},
   "outputs": [],
   "source": [
    "sentences = [\n",
    "    \"I love you.\",\n",
    "    \"You must admit that Bryant Gumbel is one of the dumbest racists around - an arrogant dope with no talent. Failed at CBS etc-why still on TV?\",\n",
    "\"I feel sorry for Rosie 's new partner in love whose parents are devastated at the thought of their daughter being with @Rosie--a true loser.\",\n",
    "]\n",
    "for sentence in sentences:\n",
    "    analyze_sentence(sentence)"
   ]
  },
  {
   "cell_type": "markdown",
   "metadata": {
    "collapsed": true
   },
   "source": [
    "**Exercice**\n",
    "\n",
    "Below is an example of negative comment for an hotel: https://www.tripadvisor.com/ShowUserReviews-g298343-d305531-r539684070-Sugar_Beach_Mauritius-Flic_En_Flac.html#CHECK_RATES_CONT\n",
    "\n",
    "\n",
    "> Came here on holiday with my wife for a much needed rest and was looking forward to a relaxing Spa break however the noise levels detract from the whole experience.\n",
    "\n",
    "> There are weddings, corporate functions and music going on permanently. Currently sitting outside our bedroom here looking at the sunset through a group of corporate guests who have a function set up on the lawn in front of us. Totally miss sold through Virgin. This is not paradise at all rather a disgrace.\"\n",
    "\n",
    "\n",
    "* What is the sentiment analysis associated to this comment with the vader tool?\n",
    "* What is the result using this api? http://text2data.org/Demo/Demo"
   ]
  },
  {
   "cell_type": "code",
   "execution_count": null,
   "metadata": {
    "collapsed": true
   },
   "outputs": [],
   "source": []
  },
  {
   "cell_type": "markdown",
   "metadata": {
    "collapsed": true
   },
   "source": [
    "**Project**"
   ]
  },
  {
   "cell_type": "markdown",
   "metadata": {},
   "source": [
    "* Given customers reviews for a specific hotel: https://www.tripadvisor.com/ShowUserReviews-g298343-d305531-r539684070-Sugar_Beach_Mauritius-Flic_En_Flac.html#CHECK_RATES_CONT\n",
    "* Create a word cloud to summarize the word that are commons to negative review. An example of word cloud generation is given below.\n",
    "* Clean the data as much as needed (by removing useless words, maybe even stemming them...)"
   ]
  },
  {
   "cell_type": "code",
   "execution_count": null,
   "metadata": {},
   "outputs": [],
   "source": [
    "# Below is an example using wordcloud\n",
    "!pip install wordcloud\n",
    "from wordcloud import WordCloud\n",
    "import matplotlib.pyplot as plt\n",
    "\n",
    "# Read the whole text.\n",
    "text = \"Came here on holiday with my wife for a much needed rest and was looking forward to a relaxing Spa break however the noise levels detract from the whole experience. There are weddings, corporate functions and music going on permanently. Currently sitting outside our bedroom here looking at the sunset through a group of corporate guests who have a function set up on the lawn in front of us. Totally miss sold through Virgin. This is not paradise at all rather a disgrace.\"\n",
    "# Generate a word cloud image\n",
    "wordcloud = WordCloud(width=600, height=600, max_font_size=40).generate(text)\n",
    "fig2 = plt.figure(figsize = (15,15)) # create a 5 x 5 figure \n",
    "ax3 = fig2.add_subplot(111)\n",
    "ax3.imshow(wordcloud, interpolation=\"bilinear\")\n",
    "ax3.axis(\"off\")"
   ]
  },
  {
   "cell_type": "code",
   "execution_count": null,
   "metadata": {
    "collapsed": true
   },
   "outputs": [],
   "source": []
  }
 ],
 "metadata": {
  "kernelspec": {
   "display_name": "Python 3",
   "language": "python",
   "name": "python3"
  },
  "language_info": {
   "codemirror_mode": {
    "name": "ipython",
    "version": 3
   },
   "file_extension": ".py",
   "mimetype": "text/x-python",
   "name": "python",
   "nbconvert_exporter": "python",
   "pygments_lexer": "ipython3",
   "version": "3.6.2"
  }
 },
 "nbformat": 4,
 "nbformat_minor": 2
}
