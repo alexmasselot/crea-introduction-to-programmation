{
 "cells": [
  {
   "cell_type": "markdown",
   "metadata": {},
   "source": [
    "Your purpose is now to predict if one passenger has survived based on what we know (his age, gender...)"
   ]
  },
  {
   "cell_type": "code",
   "execution_count": null,
   "metadata": {
    "collapsed": true
   },
   "outputs": [],
   "source": [
    "import pandas as pd\n",
    "import numpy as np\n",
    "\n",
    "# Load the data as a dataframe\n",
    "df = pd.read_csv('./../data/titanic_train.csv')"
   ]
  },
  {
   "cell_type": "code",
   "execution_count": null,
   "metadata": {
    "collapsed": true
   },
   "outputs": [],
   "source": [
    "Y_truth = list(1.0*df['Survived'])"
   ]
  },
  {
   "cell_type": "code",
   "execution_count": null,
   "metadata": {
    "collapsed": true
   },
   "outputs": [],
   "source": [
    "def compute_accuracy(Y, Y_pred):\n",
    "    \"\"\"\n",
    "    This function is used below to compute the score associated to a prediction.\n",
    "    Y should be a list with the result\n",
    "    Y_pred should be a prediction of this list\n",
    "    This function will return 1.0 if you correctly predict the survival state of all passengers.\n",
    "    \"\"\"\n",
    "    assert type(Y) is list\n",
    "    assert type(Y_pred) is list\n",
    "    assert len(Y) == len(Y_pred)\n",
    "    n_success = [(1 if round(y_pred) == y else 0) for (y, y_pred) in zip(Y, Y_pred)]\n",
    "    return 1.0*sum(n_success)/len(Y)"
   ]
  },
  {
   "cell_type": "code",
   "execution_count": null,
   "metadata": {
    "scrolled": false
   },
   "outputs": [],
   "source": [
    "df"
   ]
  },
  {
   "cell_type": "markdown",
   "metadata": {},
   "source": [
    "## Making simple predictors\n",
    "\n",
    "We have 891 passengers. For each of them, we are going to attribute:\n",
    "\n",
    "  * 0 if we predict they are going to die\n",
    "  * 1 if we predict they are going to survive\n",
    "\n",
    "The goal is then to compare our prediction against the real results to see how accurate we are.\n",
    "\n",
    "We are 100% accurate when we predict the correct outcome for everyone, and 0% when we predict for none.\n",
    "\n",
    "The ideal goal is to build the best **predicition model** based on all the available passenger data (age, class, gender...)\n",
    "\n",
    "### What if we predict everyone dies?\n",
    "\n",
    "In this case we simply attribute a *0* to everyone.\n",
    "\n",
    "The output shows *~62%*, because *62%* of passengers actually lost their lives."
   ]
  },
  {
   "cell_type": "code",
   "execution_count": null,
   "metadata": {},
   "outputs": [],
   "source": [
    "Y_pred_everyone_dies = [0.0]*len(df)\n",
    "# This will return 0.616, as asserting that everybody\n",
    "# died is true for 62% of the population.\n",
    "compute_accuracy(Y_truth, Y_pred_everyone_dies)"
   ]
  },
  {
   "cell_type": "markdown",
   "metadata": {},
   "source": [
    "### What about using the Pclass information?\n",
    "\n",
    "We saw in the data exploration a bias with the ticket class. The first class passengers were more likely to survive.\n",
    "\n",
    "Let's therefore build a finer model, predicting a favorable outcome for the first class.\n",
    "\n",
    "The output now shws a better outcome, of %68%\"!\n"
   ]
  },
  {
   "cell_type": "code",
   "execution_count": null,
   "metadata": {},
   "outputs": [],
   "source": [
    "#We build a Y_pred_with_class list, and for each passenger, we set 0 or 1 into it\n",
    "Y_pred_with_class = []\n",
    "for passenger in df.to_dict(orient='records'):\n",
    "    if passenger['Pclass'] == 1:\n",
    "        yp = 1\n",
    "    else:\n",
    "        yp = 0\n",
    "    # we then add the passenger prediction to the whole list\n",
    "    Y_pred_with_class.append(yp)\n",
    "\n",
    "#we can now check how relevant it is\n",
    "compute_accuracy(Y_truth, Y_pred_with_class)"
   ]
  },
  {
   "cell_type": "markdown",
   "metadata": {},
   "source": [
    "## You turn!!!\n",
    "### make a prediction based on gender"
   ]
  },
  {
   "cell_type": "code",
   "execution_count": null,
   "metadata": {},
   "outputs": [],
   "source": [
    "Y_pred_with_gender = []\n",
    "\n",
    "for passenger in df.to_dict(orient='records'):\n",
    "    ####### insert your condition here, based on the same template as above\n",
    "\n",
    "    ####### end of your code\n",
    "    Y_pred_with_gender.append(yp)\n",
    "\n",
    "#we can now check how relevant it is\n",
    "compute_accuracy(Y_truth, Y_pred_with_gender)"
   ]
  },
  {
   "cell_type": "markdown",
   "metadata": {},
   "source": [
    "### Be more imaginative: create your own model!\n",
    "### This is a contest\n",
    "\n",
    "The idea is maybe to combine various factors, in the form, for example\n",
    "\n",
    "    ####### insert your condition here, based on the same template as above\n",
    "       if passenger['Pclass']>=2:\n",
    "           if(passenger['embarked'] == 'S':\n",
    "               yp=1\n",
    "           else:\n",
    "               yp=0\n",
    "      else:\n",
    "           if(passenger['Sex'] == 'female':\n",
    "               yp=0\n",
    "           else:\n",
    "               yp=1\n",
    "\n",
    "    ####### end of your code\n"
   ]
  },
  {
   "cell_type": "code",
   "execution_count": null,
   "metadata": {
    "collapsed": true
   },
   "outputs": [],
   "source": [
    "Y_pred_my_model_1 = []\n",
    "\n",
    "for passenger in df.to_dict(orient='records'):\n",
    "    ####### insert your condition here, based on the same template as above\n",
    "\n",
    "    ####### end of your code\n",
    "    Y_pred_my_model_1.append(yp)\n",
    "\n",
    "#we can now check how relevant it is\n",
    "compute_accuracy(Y_truth, Y_pred_my_model_1)"
   ]
  },
  {
   "cell_type": "markdown",
   "metadata": {},
   "source": [
    "You can of course copy/paste the code above, create new cell to test other models.\n"
   ]
  }
 ],
 "metadata": {
  "kernelspec": {
   "display_name": "Python 3",
   "language": "python",
   "name": "python3"
  },
  "language_info": {
   "codemirror_mode": {
    "name": "ipython",
    "version": 3
   },
   "file_extension": ".py",
   "mimetype": "text/x-python",
   "name": "python",
   "nbconvert_exporter": "python",
   "pygments_lexer": "ipython3",
   "version": "3.6.2"
  }
 },
 "nbformat": 4,
 "nbformat_minor": 2
}
